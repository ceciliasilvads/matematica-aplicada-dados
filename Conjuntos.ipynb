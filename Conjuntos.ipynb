{
  "nbformat": 4,
  "nbformat_minor": 0,
  "metadata": {
    "colab": {
      "provenance": [],
      "include_colab_link": true
    },
    "kernelspec": {
      "name": "python3",
      "display_name": "Python 3"
    }
  },
  "cells": [
    {
      "cell_type": "markdown",
      "metadata": {
        "id": "view-in-github",
        "colab_type": "text"
      },
      "source": [
        "<a href=\"https://colab.research.google.com/github/ceciliasilvads/matematica-aplicada-dados/blob/main/Conjuntos.ipynb\" target=\"_parent\"><img src=\"https://colab.research.google.com/assets/colab-badge.svg\" alt=\"Open In Colab\"/></a>"
      ]
    },
    {
      "cell_type": "markdown",
      "metadata": {
        "id": "y-_a0bDsLM5U"
      },
      "source": [
        "# **Conjuntos Númericos**"
      ]
    },
    {
      "cell_type": "markdown",
      "source": [
        "## Conjunto dos Números naturais (N)\n",
        "\n",
        "O conjunto dos números naturais é representado por N. Ele reúne os números que usamos para contar (incluindo o zero) e é infinito.\n",
        "\n",
        "**Subconjuntos dos Números Naturais**\n",
        "\n",
        "**N** = {0, 1, 2, 3, 4, 5, 6, 7, …}\n",
        "\n",
        "**N*** = {1, 2, 3, 4, 5, 6, 7, …}"
      ],
      "metadata": {
        "id": "R37DP6cr6Ceb"
      }
    },
    {
      "cell_type": "code",
      "metadata": {
        "id": "1WbuniR_3DIH",
        "outputId": "a6113c7c-5dab-4f42-decc-ed6882a01da9",
        "colab": {
          "base_uri": "https://localhost:8080/"
        }
      },
      "source": [
        "#Exemplo de conjuntos de números naturais\n",
        "\n",
        "N = set([0,1,2,3,4,5,6,7,8,9,10])\n",
        "N"
      ],
      "execution_count": null,
      "outputs": [
        {
          "output_type": "execute_result",
          "data": {
            "text/plain": [
              "{0, 1, 2, 3, 4, 5, 6, 7, 8, 9, 10}"
            ]
          },
          "metadata": {},
          "execution_count": 1
        }
      ]
    },
    {
      "cell_type": "markdown",
      "source": [
        "## Conjunto dos Números Inteiros (Z)\n",
        "\n",
        "O conjunto dos números inteiros é representado por Z. Reúne todos os elementos dos números naturais (N) e seus opostos. Assim, conclui-se que N é um subconjunto de Z (N ⊂ Z):\n",
        "\n",
        "**Subconjuntos dos Números Inteiros**\n",
        "- Z* = {..., –4, –3, –2, –1, 1, 2, 3, 4, ...}, conjuntos dos números inteiros não-nulos, ou seja, sem o zero.\n",
        "- Z+ = {0, 1, 2, 3, 4, 5, ...}: conjunto dos números inteiros e não-negativos.\n",
        "- Z*+ = {1, 2, 3, 4, 5, ...}: conjunto dos números inteiros positivos e sem o zero.\n",
        "- Z – = {..., –5, –4, –3, –2, –1, 0}: conjunto dos números inteiros não-positivos.\n",
        "- Z*– = {..., –5, –4, –3, –2, –1}: conjunto dos números inteiros negativos e sem o zero."
      ],
      "metadata": {
        "id": "5Iv4j3R7679E"
      }
    },
    {
      "cell_type": "code",
      "source": [
        "#Exemplo de conjuntos de números inteiros\n",
        "\n",
        "Z = set([-3,-2,-1,0,1,2,3])\n",
        "Z"
      ],
      "metadata": {
        "colab": {
          "base_uri": "https://localhost:8080/"
        },
        "id": "w0TVYN6P7lYN",
        "outputId": "11d4dfaf-1931-49d9-c81d-007f2f25809f"
      },
      "execution_count": null,
      "outputs": [
        {
          "output_type": "execute_result",
          "data": {
            "text/plain": [
              "{-3, -2, -1, 0, 1, 2, 3}"
            ]
          },
          "metadata": {},
          "execution_count": 2
        }
      ]
    },
    {
      "cell_type": "markdown",
      "source": [
        "## Conjunto dos Números Racionais (Q)\n",
        "\n",
        "O conjunto dos números racionais é representado por Q. Números racionais são todos aqueles que podem ser expressos na forma de fração. O numerador e o denominador da fração devem pertencer ao conjunto dos números inteiros e o denominador não poderá ser igual a zero.\n",
        "\n",
        "**Subconjuntos dos Números Racionais**\n",
        "- Q* = subconjunto dos números racionais não-nulos, formado pelos números racionais sem o zero.\n",
        "- Q+ = subconjunto dos números racionais não-negativos, formado pelos números racionais positivos e o zero.\n",
        "- Q*+ = subconjunto dos números racionais positivos, formado pelos números racionais positivos, sem o zero.\n",
        "- Q– = subconjunto dos números racionais não-positivos, formado pelos números racionais negativos e o zero.\n",
        "- Q*– = subconjunto dos números racionais negativos, formado números racionais negativos, sem o zero.\n",
        "\n"
      ],
      "metadata": {
        "id": "7Gc9Zuws_yTg"
      }
    },
    {
      "cell_type": "code",
      "source": [
        "#Exemplo de conjuntos de números racionais\n",
        "\n",
        "#Alguns valores em formato de fração que fazem parte do numeros racionais \n",
        "a = 1/2\n",
        "b = 6/3\n",
        "c = 3/3\n",
        "\n",
        "Q = set([a, b, c])\n",
        "Q"
      ],
      "metadata": {
        "colab": {
          "base_uri": "https://localhost:8080/"
        },
        "id": "SxBHJFziBJdg",
        "outputId": "277bf942-f3e2-463b-ce51-f51a53abacc3"
      },
      "execution_count": null,
      "outputs": [
        {
          "output_type": "execute_result",
          "data": {
            "text/plain": [
              "{0.5, 1.0, 2.0}"
            ]
          },
          "metadata": {},
          "execution_count": 3
        }
      ]
    },
    {
      "cell_type": "markdown",
      "source": [
        "## Conjunto dos Números Irracionais (I)\n",
        "\n",
        "O conjunto dos números irracionais é representado por I. Reúne os números decimais não exatos com uma representação infinita e não periódica, por exemplo: 3,141592... ou 1,203040..."
      ],
      "metadata": {
        "id": "fTFZfJb4CCxH"
      }
    },
    {
      "cell_type": "code",
      "source": [
        "#Exemplo de número irracional (pi)\n",
        "\n",
        "import math\n",
        "\n",
        "a = (math.pi)\n",
        "\n",
        "I = set([a])\n",
        "I"
      ],
      "metadata": {
        "colab": {
          "base_uri": "https://localhost:8080/"
        },
        "id": "Mmc4Z5qaCiVj",
        "outputId": "b2c43a87-0faf-4b30-c920-d37fae3a37e8"
      },
      "execution_count": null,
      "outputs": [
        {
          "output_type": "execute_result",
          "data": {
            "text/plain": [
              "{3.141592653589793}"
            ]
          },
          "metadata": {},
          "execution_count": 7
        }
      ]
    },
    {
      "cell_type": "markdown",
      "source": [
        "## Conjunto dos Números Reais (R)\n",
        "O conjunto dos números reais é representado por R. Esse conjunto é formado pelos números racionais (Q) e irracionais (I). Assim, temos que R = Q ∪ I. Além disso, N, Z, Q e I são subconjuntos de R.\n",
        "\n",
        "Se um número real é racional, ele não pode ser também irracional. Da mesma maneira, se ele é irracional, não é racional."
      ],
      "metadata": {
        "id": "pqjb3FfUDPpN"
      }
    },
    {
      "cell_type": "code",
      "source": [
        "#Exemplo de conjuntos de números racionais\n",
        "\n",
        "a = -5\n",
        "b = 23\n",
        "c = 1/2\n",
        "d = math.sqrt(16)\n",
        "\n",
        "R = set([a, b, c, d])\n",
        "R"
      ],
      "metadata": {
        "colab": {
          "base_uri": "https://localhost:8080/"
        },
        "id": "eJD0ow08DgZa",
        "outputId": "f83441a4-40c3-4314-e846-e5935640e402"
      },
      "execution_count": null,
      "outputs": [
        {
          "output_type": "execute_result",
          "data": {
            "text/plain": [
              "{-5, 0.5, 4.0, 23}"
            ]
          },
          "metadata": {},
          "execution_count": 11
        }
      ]
    },
    {
      "cell_type": "markdown",
      "source": [
        "# **Operações com Conjuntos**"
      ],
      "metadata": {
        "id": "d1MAqhns5Upf"
      }
    },
    {
      "cell_type": "markdown",
      "source": [
        "## União de Conjuntos\n",
        "\n",
        "A união de conjuntos corresponde a junção dos elementos dos conjuntos dados, ou seja, é o conjunto formado pelos elementos de um conjunto mais os elementos dos outros conjuntos.\n",
        "\n",
        "Se existirem elementos que se repetem nos conjuntos, ele aparecerá uma única vez no conjunto união.\n",
        "\n",
        "Para representar a união usamos o símbolo U."
      ],
      "metadata": {
        "id": "simf-uor6XRJ"
      }
    },
    {
      "cell_type": "markdown",
      "source": [
        "## Intersecção de Conjuntos\n",
        "\n",
        "A intersecção de conjuntos corresponde aos elementos que se repetem nos conjuntos dados. Ela é representada pelo símbolo ∩."
      ],
      "metadata": {
        "id": "bL5P8C6I7yFj"
      }
    },
    {
      "cell_type": "markdown",
      "source": [
        "## Diferença de Conjuntos\n",
        "A diferença de conjuntos é representada pelos elementos de um conjunto que não aparecem no outro conjunto.\n",
        "\n",
        "Dados dois conjuntos A e B, o conjunto diferença é indicado por A - B (lê-se A menos B)."
      ],
      "metadata": {
        "id": "d2HgeAPE77NM"
      }
    }
  ]
}